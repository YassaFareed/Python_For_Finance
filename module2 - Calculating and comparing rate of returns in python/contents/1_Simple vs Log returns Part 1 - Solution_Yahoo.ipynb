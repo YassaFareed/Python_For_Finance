{
 "cells": [
  {
   "cell_type": "markdown",
   "metadata": {},
   "source": [
    "## Simpler Returns - Part I"
   ]
  },
  {
   "cell_type": "markdown",
   "metadata": {},
   "source": [
    "*Suggested Answers follow (usually there are multiple ways to solve a problem in Python).*"
   ]
  },
  {
   "cell_type": "markdown",
   "metadata": {},
   "source": [
    "Download the data for Microsoft (‘MSFT’) from Yahoo Finance for the period ‘2000-1-1’ until today."
   ]
  },
  {
   "cell_type": "code",
   "execution_count": 7,
   "metadata": {},
   "outputs": [],
   "source": [
    "import numpy as np\n",
    "import matplotlib.pyplot as plt\n",
    "from pandas_datareader import data as wb"
   ]
  },
  {
   "cell_type": "code",
   "execution_count": 2,
   "metadata": {},
   "outputs": [
    {
     "data": {
      "text/html": [
       "<div>\n",
       "<style scoped>\n",
       "    .dataframe tbody tr th:only-of-type {\n",
       "        vertical-align: middle;\n",
       "    }\n",
       "\n",
       "    .dataframe tbody tr th {\n",
       "        vertical-align: top;\n",
       "    }\n",
       "\n",
       "    .dataframe thead th {\n",
       "        text-align: right;\n",
       "    }\n",
       "</style>\n",
       "<table border=\"1\" class=\"dataframe\">\n",
       "  <thead>\n",
       "    <tr style=\"text-align: right;\">\n",
       "      <th></th>\n",
       "      <th>High</th>\n",
       "      <th>Low</th>\n",
       "      <th>Open</th>\n",
       "      <th>Close</th>\n",
       "      <th>Volume</th>\n",
       "      <th>Adj Close</th>\n",
       "    </tr>\n",
       "    <tr>\n",
       "      <th>Date</th>\n",
       "      <th></th>\n",
       "      <th></th>\n",
       "      <th></th>\n",
       "      <th></th>\n",
       "      <th></th>\n",
       "      <th></th>\n",
       "    </tr>\n",
       "  </thead>\n",
       "  <tbody>\n",
       "    <tr>\n",
       "      <th>1999-12-31</th>\n",
       "      <td>58.875000</td>\n",
       "      <td>58.125000</td>\n",
       "      <td>58.750000</td>\n",
       "      <td>58.375000</td>\n",
       "      <td>12517600.0</td>\n",
       "      <td>36.920826</td>\n",
       "    </tr>\n",
       "    <tr>\n",
       "      <th>2000-01-03</th>\n",
       "      <td>59.312500</td>\n",
       "      <td>56.000000</td>\n",
       "      <td>58.687500</td>\n",
       "      <td>58.281250</td>\n",
       "      <td>53228400.0</td>\n",
       "      <td>36.861519</td>\n",
       "    </tr>\n",
       "    <tr>\n",
       "      <th>2000-01-04</th>\n",
       "      <td>58.562500</td>\n",
       "      <td>56.125000</td>\n",
       "      <td>56.781250</td>\n",
       "      <td>56.312500</td>\n",
       "      <td>54119000.0</td>\n",
       "      <td>35.616329</td>\n",
       "    </tr>\n",
       "    <tr>\n",
       "      <th>2000-01-05</th>\n",
       "      <td>58.187500</td>\n",
       "      <td>54.687500</td>\n",
       "      <td>55.562500</td>\n",
       "      <td>56.906250</td>\n",
       "      <td>64059600.0</td>\n",
       "      <td>35.991863</td>\n",
       "    </tr>\n",
       "    <tr>\n",
       "      <th>2000-01-06</th>\n",
       "      <td>56.937500</td>\n",
       "      <td>54.187500</td>\n",
       "      <td>56.093750</td>\n",
       "      <td>55.000000</td>\n",
       "      <td>54976600.0</td>\n",
       "      <td>34.786217</td>\n",
       "    </tr>\n",
       "    <tr>\n",
       "      <th>...</th>\n",
       "      <td>...</td>\n",
       "      <td>...</td>\n",
       "      <td>...</td>\n",
       "      <td>...</td>\n",
       "      <td>...</td>\n",
       "      <td>...</td>\n",
       "    </tr>\n",
       "    <tr>\n",
       "      <th>2021-10-18</th>\n",
       "      <td>308.209991</td>\n",
       "      <td>302.690002</td>\n",
       "      <td>303.570007</td>\n",
       "      <td>307.290009</td>\n",
       "      <td>22729300.0</td>\n",
       "      <td>307.290009</td>\n",
       "    </tr>\n",
       "    <tr>\n",
       "      <th>2021-10-19</th>\n",
       "      <td>309.299988</td>\n",
       "      <td>307.220001</td>\n",
       "      <td>308.350006</td>\n",
       "      <td>308.230011</td>\n",
       "      <td>17682100.0</td>\n",
       "      <td>308.230011</td>\n",
       "    </tr>\n",
       "    <tr>\n",
       "      <th>2021-10-20</th>\n",
       "      <td>309.700012</td>\n",
       "      <td>306.109985</td>\n",
       "      <td>309.209991</td>\n",
       "      <td>307.410004</td>\n",
       "      <td>16537100.0</td>\n",
       "      <td>307.410004</td>\n",
       "    </tr>\n",
       "    <tr>\n",
       "      <th>2021-10-21</th>\n",
       "      <td>311.019989</td>\n",
       "      <td>306.359985</td>\n",
       "      <td>307.170013</td>\n",
       "      <td>310.760010</td>\n",
       "      <td>16918100.0</td>\n",
       "      <td>310.760010</td>\n",
       "    </tr>\n",
       "    <tr>\n",
       "      <th>2021-10-22</th>\n",
       "      <td>311.089996</td>\n",
       "      <td>307.799988</td>\n",
       "      <td>310.399994</td>\n",
       "      <td>309.160004</td>\n",
       "      <td>17440800.0</td>\n",
       "      <td>309.160004</td>\n",
       "    </tr>\n",
       "  </tbody>\n",
       "</table>\n",
       "<p>5489 rows × 6 columns</p>\n",
       "</div>"
      ],
      "text/plain": [
       "                  High         Low        Open       Close      Volume  \\\n",
       "Date                                                                     \n",
       "1999-12-31   58.875000   58.125000   58.750000   58.375000  12517600.0   \n",
       "2000-01-03   59.312500   56.000000   58.687500   58.281250  53228400.0   \n",
       "2000-01-04   58.562500   56.125000   56.781250   56.312500  54119000.0   \n",
       "2000-01-05   58.187500   54.687500   55.562500   56.906250  64059600.0   \n",
       "2000-01-06   56.937500   54.187500   56.093750   55.000000  54976600.0   \n",
       "...                ...         ...         ...         ...         ...   \n",
       "2021-10-18  308.209991  302.690002  303.570007  307.290009  22729300.0   \n",
       "2021-10-19  309.299988  307.220001  308.350006  308.230011  17682100.0   \n",
       "2021-10-20  309.700012  306.109985  309.209991  307.410004  16537100.0   \n",
       "2021-10-21  311.019989  306.359985  307.170013  310.760010  16918100.0   \n",
       "2021-10-22  311.089996  307.799988  310.399994  309.160004  17440800.0   \n",
       "\n",
       "             Adj Close  \n",
       "Date                    \n",
       "1999-12-31   36.920826  \n",
       "2000-01-03   36.861519  \n",
       "2000-01-04   35.616329  \n",
       "2000-01-05   35.991863  \n",
       "2000-01-06   34.786217  \n",
       "...                ...  \n",
       "2021-10-18  307.290009  \n",
       "2021-10-19  308.230011  \n",
       "2021-10-20  307.410004  \n",
       "2021-10-21  310.760010  \n",
       "2021-10-22  309.160004  \n",
       "\n",
       "[5489 rows x 6 columns]"
      ]
     },
     "execution_count": 2,
     "metadata": {},
     "output_type": "execute_result"
    }
   ],
   "source": [
    "MSFT = wb.DataReader('MSFT', data_source='yahoo', start='2000-1-1')\n",
    "#PG = wb.DataReader('PG', data_source='yahoo', start='1995-1-1')\n",
    "#MSFT = pd.read_csv('MSFT_2000_2017.csv', index_col = 'Date')\n",
    "MSFT"
   ]
  },
  {
   "cell_type": "markdown",
   "metadata": {},
   "source": [
    "Apply the .**head()** and **.tail()** methods to check if the data is ok. Always pay attention to the dates. Try to get an idea about how the stock price changed during the period."
   ]
  },
  {
   "cell_type": "code",
   "execution_count": 12,
   "metadata": {},
   "outputs": [
    {
     "data": {
      "text/html": [
       "<div>\n",
       "<style scoped>\n",
       "    .dataframe tbody tr th:only-of-type {\n",
       "        vertical-align: middle;\n",
       "    }\n",
       "\n",
       "    .dataframe tbody tr th {\n",
       "        vertical-align: top;\n",
       "    }\n",
       "\n",
       "    .dataframe thead th {\n",
       "        text-align: right;\n",
       "    }\n",
       "</style>\n",
       "<table border=\"1\" class=\"dataframe\">\n",
       "  <thead>\n",
       "    <tr style=\"text-align: right;\">\n",
       "      <th></th>\n",
       "      <th>High</th>\n",
       "      <th>Low</th>\n",
       "      <th>Open</th>\n",
       "      <th>Close</th>\n",
       "      <th>Volume</th>\n",
       "      <th>Adj Close</th>\n",
       "      <th>simple_return</th>\n",
       "    </tr>\n",
       "    <tr>\n",
       "      <th>Date</th>\n",
       "      <th></th>\n",
       "      <th></th>\n",
       "      <th></th>\n",
       "      <th></th>\n",
       "      <th></th>\n",
       "      <th></th>\n",
       "      <th></th>\n",
       "    </tr>\n",
       "  </thead>\n",
       "  <tbody>\n",
       "    <tr>\n",
       "      <th>1999-12-31</th>\n",
       "      <td>58.87500</td>\n",
       "      <td>58.12500</td>\n",
       "      <td>58.75000</td>\n",
       "      <td>58.37500</td>\n",
       "      <td>12517600.0</td>\n",
       "      <td>36.920826</td>\n",
       "      <td>NaN</td>\n",
       "    </tr>\n",
       "    <tr>\n",
       "      <th>2000-01-03</th>\n",
       "      <td>59.31250</td>\n",
       "      <td>56.00000</td>\n",
       "      <td>58.68750</td>\n",
       "      <td>58.28125</td>\n",
       "      <td>53228400.0</td>\n",
       "      <td>36.861519</td>\n",
       "      <td>-0.001606</td>\n",
       "    </tr>\n",
       "    <tr>\n",
       "      <th>2000-01-04</th>\n",
       "      <td>58.56250</td>\n",
       "      <td>56.12500</td>\n",
       "      <td>56.78125</td>\n",
       "      <td>56.31250</td>\n",
       "      <td>54119000.0</td>\n",
       "      <td>35.616329</td>\n",
       "      <td>-0.033780</td>\n",
       "    </tr>\n",
       "    <tr>\n",
       "      <th>2000-01-05</th>\n",
       "      <td>58.18750</td>\n",
       "      <td>54.68750</td>\n",
       "      <td>55.56250</td>\n",
       "      <td>56.90625</td>\n",
       "      <td>64059600.0</td>\n",
       "      <td>35.991863</td>\n",
       "      <td>0.010544</td>\n",
       "    </tr>\n",
       "    <tr>\n",
       "      <th>2000-01-06</th>\n",
       "      <td>56.93750</td>\n",
       "      <td>54.18750</td>\n",
       "      <td>56.09375</td>\n",
       "      <td>55.00000</td>\n",
       "      <td>54976600.0</td>\n",
       "      <td>34.786217</td>\n",
       "      <td>-0.033498</td>\n",
       "    </tr>\n",
       "    <tr>\n",
       "      <th>2000-01-07</th>\n",
       "      <td>56.12500</td>\n",
       "      <td>53.65625</td>\n",
       "      <td>54.31250</td>\n",
       "      <td>55.71875</td>\n",
       "      <td>62013600.0</td>\n",
       "      <td>35.240807</td>\n",
       "      <td>0.013068</td>\n",
       "    </tr>\n",
       "    <tr>\n",
       "      <th>2000-01-10</th>\n",
       "      <td>56.84375</td>\n",
       "      <td>55.68750</td>\n",
       "      <td>56.71875</td>\n",
       "      <td>56.12500</td>\n",
       "      <td>44963600.0</td>\n",
       "      <td>35.497746</td>\n",
       "      <td>0.007291</td>\n",
       "    </tr>\n",
       "    <tr>\n",
       "      <th>2000-01-11</th>\n",
       "      <td>57.12500</td>\n",
       "      <td>54.34375</td>\n",
       "      <td>55.75000</td>\n",
       "      <td>54.68750</td>\n",
       "      <td>46743600.0</td>\n",
       "      <td>34.588581</td>\n",
       "      <td>-0.025612</td>\n",
       "    </tr>\n",
       "    <tr>\n",
       "      <th>2000-01-12</th>\n",
       "      <td>54.43750</td>\n",
       "      <td>52.21875</td>\n",
       "      <td>54.25000</td>\n",
       "      <td>52.90625</td>\n",
       "      <td>66532400.0</td>\n",
       "      <td>33.461971</td>\n",
       "      <td>-0.032572</td>\n",
       "    </tr>\n",
       "    <tr>\n",
       "      <th>2000-01-13</th>\n",
       "      <td>54.31250</td>\n",
       "      <td>50.75000</td>\n",
       "      <td>52.18750</td>\n",
       "      <td>53.90625</td>\n",
       "      <td>83144000.0</td>\n",
       "      <td>34.094440</td>\n",
       "      <td>0.018901</td>\n",
       "    </tr>\n",
       "  </tbody>\n",
       "</table>\n",
       "</div>"
      ],
      "text/plain": [
       "                High       Low      Open     Close      Volume  Adj Close  \\\n",
       "Date                                                                        \n",
       "1999-12-31  58.87500  58.12500  58.75000  58.37500  12517600.0  36.920826   \n",
       "2000-01-03  59.31250  56.00000  58.68750  58.28125  53228400.0  36.861519   \n",
       "2000-01-04  58.56250  56.12500  56.78125  56.31250  54119000.0  35.616329   \n",
       "2000-01-05  58.18750  54.68750  55.56250  56.90625  64059600.0  35.991863   \n",
       "2000-01-06  56.93750  54.18750  56.09375  55.00000  54976600.0  34.786217   \n",
       "2000-01-07  56.12500  53.65625  54.31250  55.71875  62013600.0  35.240807   \n",
       "2000-01-10  56.84375  55.68750  56.71875  56.12500  44963600.0  35.497746   \n",
       "2000-01-11  57.12500  54.34375  55.75000  54.68750  46743600.0  34.588581   \n",
       "2000-01-12  54.43750  52.21875  54.25000  52.90625  66532400.0  33.461971   \n",
       "2000-01-13  54.31250  50.75000  52.18750  53.90625  83144000.0  34.094440   \n",
       "\n",
       "            simple_return  \n",
       "Date                       \n",
       "1999-12-31            NaN  \n",
       "2000-01-03      -0.001606  \n",
       "2000-01-04      -0.033780  \n",
       "2000-01-05       0.010544  \n",
       "2000-01-06      -0.033498  \n",
       "2000-01-07       0.013068  \n",
       "2000-01-10       0.007291  \n",
       "2000-01-11      -0.025612  \n",
       "2000-01-12      -0.032572  \n",
       "2000-01-13       0.018901  "
      ]
     },
     "execution_count": 12,
     "metadata": {},
     "output_type": "execute_result"
    }
   ],
   "source": [
    "MSFT.head(10)"
   ]
  },
  {
   "cell_type": "code",
   "execution_count": 4,
   "metadata": {},
   "outputs": [
    {
     "data": {
      "text/html": [
       "<div>\n",
       "<style scoped>\n",
       "    .dataframe tbody tr th:only-of-type {\n",
       "        vertical-align: middle;\n",
       "    }\n",
       "\n",
       "    .dataframe tbody tr th {\n",
       "        vertical-align: top;\n",
       "    }\n",
       "\n",
       "    .dataframe thead th {\n",
       "        text-align: right;\n",
       "    }\n",
       "</style>\n",
       "<table border=\"1\" class=\"dataframe\">\n",
       "  <thead>\n",
       "    <tr style=\"text-align: right;\">\n",
       "      <th></th>\n",
       "      <th>High</th>\n",
       "      <th>Low</th>\n",
       "      <th>Open</th>\n",
       "      <th>Close</th>\n",
       "      <th>Volume</th>\n",
       "      <th>Adj Close</th>\n",
       "    </tr>\n",
       "    <tr>\n",
       "      <th>Date</th>\n",
       "      <th></th>\n",
       "      <th></th>\n",
       "      <th></th>\n",
       "      <th></th>\n",
       "      <th></th>\n",
       "      <th></th>\n",
       "    </tr>\n",
       "  </thead>\n",
       "  <tbody>\n",
       "    <tr>\n",
       "      <th>2021-10-18</th>\n",
       "      <td>308.209991</td>\n",
       "      <td>302.690002</td>\n",
       "      <td>303.570007</td>\n",
       "      <td>307.290009</td>\n",
       "      <td>22729300.0</td>\n",
       "      <td>307.290009</td>\n",
       "    </tr>\n",
       "    <tr>\n",
       "      <th>2021-10-19</th>\n",
       "      <td>309.299988</td>\n",
       "      <td>307.220001</td>\n",
       "      <td>308.350006</td>\n",
       "      <td>308.230011</td>\n",
       "      <td>17682100.0</td>\n",
       "      <td>308.230011</td>\n",
       "    </tr>\n",
       "    <tr>\n",
       "      <th>2021-10-20</th>\n",
       "      <td>309.700012</td>\n",
       "      <td>306.109985</td>\n",
       "      <td>309.209991</td>\n",
       "      <td>307.410004</td>\n",
       "      <td>16537100.0</td>\n",
       "      <td>307.410004</td>\n",
       "    </tr>\n",
       "    <tr>\n",
       "      <th>2021-10-21</th>\n",
       "      <td>311.019989</td>\n",
       "      <td>306.359985</td>\n",
       "      <td>307.170013</td>\n",
       "      <td>310.760010</td>\n",
       "      <td>16918100.0</td>\n",
       "      <td>310.760010</td>\n",
       "    </tr>\n",
       "    <tr>\n",
       "      <th>2021-10-22</th>\n",
       "      <td>311.089996</td>\n",
       "      <td>307.799988</td>\n",
       "      <td>310.399994</td>\n",
       "      <td>309.160004</td>\n",
       "      <td>17440800.0</td>\n",
       "      <td>309.160004</td>\n",
       "    </tr>\n",
       "  </tbody>\n",
       "</table>\n",
       "</div>"
      ],
      "text/plain": [
       "                  High         Low        Open       Close      Volume  \\\n",
       "Date                                                                     \n",
       "2021-10-18  308.209991  302.690002  303.570007  307.290009  22729300.0   \n",
       "2021-10-19  309.299988  307.220001  308.350006  308.230011  17682100.0   \n",
       "2021-10-20  309.700012  306.109985  309.209991  307.410004  16537100.0   \n",
       "2021-10-21  311.019989  306.359985  307.170013  310.760010  16918100.0   \n",
       "2021-10-22  311.089996  307.799988  310.399994  309.160004  17440800.0   \n",
       "\n",
       "             Adj Close  \n",
       "Date                    \n",
       "2021-10-18  307.290009  \n",
       "2021-10-19  308.230011  \n",
       "2021-10-20  307.410004  \n",
       "2021-10-21  310.760010  \n",
       "2021-10-22  309.160004  "
      ]
     },
     "execution_count": 4,
     "metadata": {},
     "output_type": "execute_result"
    }
   ],
   "source": [
    "MSFT.tail()"
   ]
  },
  {
   "cell_type": "markdown",
   "metadata": {
    "collapsed": true
   },
   "source": [
    "### Simple Rate of Return"
   ]
  },
  {
   "cell_type": "markdown",
   "metadata": {},
   "source": [
    "Calculate the simple returns of ‘MSFT’ for the given timeframe."
   ]
  },
  {
   "cell_type": "markdown",
   "metadata": {},
   "source": [
    "$$\n",
    "\\frac{P_1 - P_0}{P_0} = \\frac{P_1}{P_0} - 1\n",
    "$$"
   ]
  },
  {
   "cell_type": "code",
   "execution_count": 5,
   "metadata": {},
   "outputs": [
    {
     "name": "stdout",
     "output_type": "stream",
     "text": [
      "Date\n",
      "1999-12-31         NaN\n",
      "2000-01-03   -0.001606\n",
      "2000-01-04   -0.033780\n",
      "2000-01-05    0.010544\n",
      "2000-01-06   -0.033498\n",
      "                ...   \n",
      "2021-10-18    0.010125\n",
      "2021-10-19    0.003059\n",
      "2021-10-20   -0.002660\n",
      "2021-10-21    0.010898\n",
      "2021-10-22   -0.005149\n",
      "Name: simple_return, Length: 5489, dtype: float64\n"
     ]
    }
   ],
   "source": [
    "\n",
    "MSFT['simple_return'] = (MSFT['Adj Close'] / MSFT['Adj Close'].shift(1)) - 1\n",
    "print (MSFT['simple_return'])"
   ]
  },
  {
   "cell_type": "code",
   "execution_count": 8,
   "metadata": {},
   "outputs": [
    {
     "data": {
      "image/png": "[encoded data removed]",
      "text/plain": [
       "<Figure size 576x360 with 1 Axes>"
      ]
     },
     "metadata": {
      "needs_background": "light"
     },
     "output_type": "display_data"
    }
   ],
   "source": [
    "MSFT['simple_return'].plot(figsize=(8,5))\n",
    "plt.show()"
   ]
  },
  {
   "cell_type": "code",
   "execution_count": 11,
   "metadata": {},
   "outputs": [
    {
     "data": {
      "text/plain": [
       "0.0005730421011321545"
      ]
     },
     "execution_count": 11,
     "metadata": {},
     "output_type": "execute_result"
    }
   ],
   "source": [
    "#avg day rate of return\n",
    "avg_returns_d = MSFT['simple_return'].mean()\n",
    "avg_returns_d"
   ]
  },
  {
   "cell_type": "code",
   "execution_count": 13,
   "metadata": {},
   "outputs": [
    {
     "data": {
      "text/plain": [
       "0.14326052528303862"
      ]
     },
     "execution_count": 13,
     "metadata": {},
     "output_type": "execute_result"
    }
   ],
   "source": [
    "#avg annual rate of return\n",
    "#not composed of 365 days\n",
    "#saturday sunday and public holidays are excluded so we can use some number say 250 for trading days\n",
    "avg_returns_a = MSFT['simple_return'].mean()*250\n",
    "avg_returns_a"
   ]
  },
  {
   "cell_type": "code",
   "execution_count": 17,
   "metadata": {},
   "outputs": [
    {
     "name": "stdout",
     "output_type": "stream",
     "text": [
      "14.326 %\n"
     ]
    }
   ],
   "source": [
    "print(str(round(avg_returns_a,5)*100) + ' %')"
   ]
  },
  {
   "cell_type": "code",
   "execution_count": null,
   "metadata": {},
   "outputs": [],
   "source": [
    "#Log returns are preferable when you make calculations about a single asset over time\n",
    "\n",
    "#when considering multiple securities in a same period -> simple rate of return\n"
   ]
  },
  {
   "cell_type": "markdown",
   "metadata": {},
   "source": [
    "### Log Returns"
   ]
  },
  {
   "cell_type": "markdown",
   "metadata": {},
   "source": [
    "$$\n",
    "ln(\\frac{P_t}{P_{t-1}})\n",
    "$$"
   ]
  },
  {
   "cell_type": "markdown",
   "metadata": {},
   "source": [
    "Calculate the Log returns for Microsoft."
   ]
  },
  {
   "cell_type": "code",
   "execution_count": 18,
   "metadata": {},
   "outputs": [
    {
     "name": "stdout",
     "output_type": "stream",
     "text": [
      "Date\n",
      "1999-12-31         NaN\n",
      "2000-01-03   -0.001608\n",
      "2000-01-04   -0.034364\n",
      "2000-01-05    0.010489\n",
      "2000-01-06   -0.034072\n",
      "                ...   \n",
      "2021-10-18    0.010074\n",
      "2021-10-19    0.003054\n",
      "2021-10-20   -0.002664\n",
      "2021-10-21    0.010839\n",
      "2021-10-22   -0.005162\n",
      "Name: log_return, Length: 5489, dtype: float64\n"
     ]
    }
   ],
   "source": [
    "MSFT['log_return'] = np.log(MSFT['Adj Close'] / MSFT['Adj Close'].shift(1))\n",
    "print (MSFT['log_return'])"
   ]
  },
  {
   "cell_type": "markdown",
   "metadata": {},
   "source": [
    "Plot the results on a graph."
   ]
  },
  {
   "cell_type": "code",
   "execution_count": 19,
   "metadata": {},
   "outputs": [
    {
     "data": {
      "image/png": "[encoded data removed]",
      "text/plain": [
       "<Figure size 576x360 with 1 Axes>"
      ]
     },
     "metadata": {
      "needs_background": "light"
     },
     "output_type": "display_data"
    }
   ],
   "source": [
    "MSFT['log_return'].plot(figsize=(8, 5))\n",
    "plt.show()"
   ]
  },
  {
   "cell_type": "markdown",
   "metadata": {},
   "source": [
    "Estimate the daily and the annual mean of the obtained log returns."
   ]
  },
  {
   "cell_type": "code",
   "execution_count": 20,
   "metadata": {},
   "outputs": [
    {
     "data": {
      "text/plain": [
       "0.0003872236102646974"
      ]
     },
     "execution_count": 20,
     "metadata": {},
     "output_type": "execute_result"
    }
   ],
   "source": [
    "log_return_d = MSFT['log_return'].mean()\n",
    "log_return_d"
   ]
  },
  {
   "cell_type": "code",
   "execution_count": 21,
   "metadata": {},
   "outputs": [
    {
     "data": {
      "text/plain": [
       "0.09680590256617436"
      ]
     },
     "execution_count": 21,
     "metadata": {},
     "output_type": "execute_result"
    }
   ],
   "source": [
    "log_return_a = MSFT['log_return'].mean() * 250\n",
    "log_return_a"
   ]
  },
  {
   "cell_type": "markdown",
   "metadata": {},
   "source": [
    "Print the result in a presentable form."
   ]
  },
  {
   "cell_type": "code",
   "execution_count": 22,
   "metadata": {},
   "outputs": [
    {
     "name": "stdout",
     "output_type": "stream",
     "text": [
      "9.681 %\n"
     ]
    }
   ],
   "source": [
    "print (str(round(log_return_a, 5) * 100) + ' %')"
   ]
  },
  {
   "cell_type": "code",
   "execution_count": null,
   "metadata": {},
   "outputs": [],
   "source": []
  }
 ],
 "metadata": {
  "kernelspec": {
   "display_name": "Python 3",
   "language": "python",
   "name": "python3"
  },
  "language_info": {
   "codemirror_mode": {
    "name": "ipython",
    "version": 3
   },
   "file_extension": ".py",
   "mimetype": "text/x-python",
   "name": "python",
   "nbconvert_exporter": "python",
   "pygments_lexer": "ipython3",
   "version": "3.8.5"
  }
 },
 "nbformat": 4,
 "nbformat_minor": 2
}
